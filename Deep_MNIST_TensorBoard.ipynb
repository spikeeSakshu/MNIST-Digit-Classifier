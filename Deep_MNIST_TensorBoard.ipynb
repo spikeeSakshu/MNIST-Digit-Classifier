{
 "cells": [
  {
   "cell_type": "markdown",
   "metadata": {},
   "source": [
    "- 70,000 data points\n",
    "- 55,000 for training\n",
    "- 10,000 for testing\n",
    "- 5,000 for Validation"
   ]
  },
  {
   "cell_type": "markdown",
   "metadata": {},
   "source": [
    "# Tensorflow Training\n",
    "- Prepared Data -- MNIST Data \n",
    "- Interfrence -- sum(X* weight)+ Bias -> activation\n",
    "- Loss Measurement -- Cross Entropy \n",
    "- Optimizer -- Adam Optimizer"
   ]
  },
  {
   "cell_type": "markdown",
   "metadata": {},
   "source": [
    "Command to run TensorBoard Session ... type inside CMD\n",
    "\n",
    "- cd/folder_name\n",
    "- tensorboard --log ./tb_logs"
   ]
  },
  {
   "cell_type": "code",
   "execution_count": 1,
   "metadata": {},
   "outputs": [],
   "source": [
    "import tensorflow as tf\n",
    "from tensorflow.examples.tutorials.mnist import input_data"
   ]
  },
  {
   "cell_type": "code",
   "execution_count": 2,
   "metadata": {},
   "outputs": [
    {
     "name": "stderr",
     "output_type": "stream",
     "text": [
      "WARNING: Logging before flag parsing goes to stderr.\n",
      "W0804 12:55:02.522271  7212 deprecation.py:323] From <ipython-input-2-db594d3ab595>:1: read_data_sets (from tensorflow.contrib.learn.python.learn.datasets.mnist) is deprecated and will be removed in a future version.\n",
      "Instructions for updating:\n",
      "Please use alternatives such as official/mnist/dataset.py from tensorflow/models.\n",
      "W0804 12:55:02.537886  7212 deprecation.py:323] From C:\\Anaconda3\\lib\\site-packages\\tensorflow\\contrib\\learn\\python\\learn\\datasets\\mnist.py:260: maybe_download (from tensorflow.contrib.learn.python.learn.datasets.base) is deprecated and will be removed in a future version.\n",
      "Instructions for updating:\n",
      "Please write your own downloading logic.\n",
      "W0804 12:55:02.537886  7212 deprecation.py:323] From C:\\Anaconda3\\lib\\site-packages\\tensorflow\\contrib\\learn\\python\\learn\\datasets\\mnist.py:262: extract_images (from tensorflow.contrib.learn.python.learn.datasets.mnist) is deprecated and will be removed in a future version.\n",
      "Instructions for updating:\n",
      "Please use tf.data to implement this functionality.\n"
     ]
    },
    {
     "name": "stdout",
     "output_type": "stream",
     "text": [
      "Extracting MNIST_data/train-images-idx3-ubyte.gz\n"
     ]
    },
    {
     "name": "stderr",
     "output_type": "stream",
     "text": [
      "W0804 12:55:02.722917  7212 deprecation.py:323] From C:\\Anaconda3\\lib\\site-packages\\tensorflow\\contrib\\learn\\python\\learn\\datasets\\mnist.py:267: extract_labels (from tensorflow.contrib.learn.python.learn.datasets.mnist) is deprecated and will be removed in a future version.\n",
      "Instructions for updating:\n",
      "Please use tf.data to implement this functionality.\n",
      "W0804 12:55:02.722917  7212 deprecation.py:323] From C:\\Anaconda3\\lib\\site-packages\\tensorflow\\contrib\\learn\\python\\learn\\datasets\\mnist.py:110: dense_to_one_hot (from tensorflow.contrib.learn.python.learn.datasets.mnist) is deprecated and will be removed in a future version.\n",
      "Instructions for updating:\n",
      "Please use tf.one_hot on tensors.\n",
      "W0804 12:55:02.769726  7212 deprecation.py:323] From C:\\Anaconda3\\lib\\site-packages\\tensorflow\\contrib\\learn\\python\\learn\\datasets\\mnist.py:290: DataSet.__init__ (from tensorflow.contrib.learn.python.learn.datasets.mnist) is deprecated and will be removed in a future version.\n",
      "Instructions for updating:\n",
      "Please use alternatives such as official/mnist/dataset.py from tensorflow/models.\n"
     ]
    },
    {
     "name": "stdout",
     "output_type": "stream",
     "text": [
      "Extracting MNIST_data/train-labels-idx1-ubyte.gz\n",
      "Extracting MNIST_data/t10k-images-idx3-ubyte.gz\n",
      "Extracting MNIST_data/t10k-labels-idx1-ubyte.gz\n"
     ]
    },
    {
     "data": {
      "text/plain": [
       "Datasets(train=<tensorflow.contrib.learn.python.learn.datasets.mnist.DataSet object at 0x00000245A69C2898>, validation=<tensorflow.contrib.learn.python.learn.datasets.mnist.DataSet object at 0x00000245AD94E4E0>, test=<tensorflow.contrib.learn.python.learn.datasets.mnist.DataSet object at 0x00000245AD94E4A8>)"
      ]
     },
     "execution_count": 2,
     "metadata": {},
     "output_type": "execute_result"
    }
   ],
   "source": [
    "mnist= input_data.read_data_sets('MNIST_data/', one_hot= True)\n",
    "mnist"
   ]
  },
  {
   "cell_type": "code",
   "execution_count": 28,
   "metadata": {},
   "outputs": [],
   "source": [
    "logPath= './tb_logs/'"
   ]
  },
  {
   "cell_type": "code",
   "execution_count": 13,
   "metadata": {},
   "outputs": [],
   "source": [
    "def variable_summaries(var):\n",
    "    with tf.name_scope('summaries'):\n",
    "        mean= tf.reduce_mean(var)\n",
    "        tf.summary.scalar('mean', mean)\n",
    "        with tf.name_scope('stddev'):\n",
    "            stddev= tf.sqrt(tf.reduce_mean(tf.square(var- mean)))\n",
    "        tf.summary.scalar('stddev', stddev)\n",
    "        tf.summary.scalar('max', tf.reduce_max(var))\n",
    "        tf.summary.scalar('min', tf.reduce_min(var))\n",
    "        tf.summary.histogram('histogram', var)"
   ]
  },
  {
   "cell_type": "markdown",
   "metadata": {},
   "source": [
    "X is placeholder for the 28*28 image data"
   ]
  },
  {
   "cell_type": "markdown",
   "metadata": {},
   "source": [
    "y_ or 'y Bar' and is a 10 element vector containing the digit(0-9) class. Such as [0.14, 0.8, 0, 0, 0, 0, 0, 0, 0.06].. right answers"
   ]
  },
  {
   "cell_type": "code",
   "execution_count": 5,
   "metadata": {},
   "outputs": [],
   "source": [
    "with tf.name_scope('MNIST_Input'):\n",
    "    X= tf.placeholder(tf.float32, shape= [None, 784], name= 'X')\n",
    "    y_= tf.placeholder(tf.float32, [None,10], name='y_')"
   ]
  },
  {
   "cell_type": "code",
   "execution_count": null,
   "metadata": {},
   "outputs": [],
   "source": []
  },
  {
   "cell_type": "markdown",
   "metadata": {},
   "source": [
    "Change the MNIST input data from a list of values to a 28 pixel X 28 pixel X 1 grayscale value cube which the Convolution NN can use."
   ]
  },
  {
   "cell_type": "code",
   "execution_count": 6,
   "metadata": {},
   "outputs": [],
   "source": [
    "with tf.name_scope(\"Input_Reshape\"):\n",
    "    X_image= tf.reshape(X, [-1, 28, 28, 1], name= 'x_image')\n",
    "    tf.summary.image('input_img', X_image, 5)"
   ]
  },
  {
   "cell_type": "markdown",
   "metadata": {},
   "source": [
    "Define helper functions to created weights and baises variables, and convolution, and pooling layers. We are using RELU as our activation function.  These must be initialized to a small positive number and with some noise so you don't end up going to zero when comparing diffs"
   ]
  },
  {
   "cell_type": "code",
   "execution_count": 7,
   "metadata": {},
   "outputs": [],
   "source": [
    "def weight_variable(shape, name=None):\n",
    "    initial= tf.truncated_normal(shape, stddev= 0.1)\n",
    "    return tf.Variable(initial)"
   ]
  },
  {
   "cell_type": "code",
   "execution_count": 8,
   "metadata": {},
   "outputs": [],
   "source": [
    "def bias_variable(shape, name=None):\n",
    "    initial= tf.constant(0.1, shape= shape)\n",
    "    return tf.Variable(initial)"
   ]
  },
  {
   "cell_type": "markdown",
   "metadata": {},
   "source": [
    "Convolution and Pooling - we do Convolution, and then pooling to control overfitting"
   ]
  },
  {
   "cell_type": "code",
   "execution_count": 9,
   "metadata": {},
   "outputs": [],
   "source": [
    "def conv2d(x, W, name=None):\n",
    "    return tf.nn.conv2d(x, W, strides= [1, 1, 1, 1], padding= 'SAME')"
   ]
  },
  {
   "cell_type": "code",
   "execution_count": 10,
   "metadata": {},
   "outputs": [],
   "source": [
    "def max_pool_2x2(x, name=None):\n",
    "    return tf.nn.max_pool(x, ksize= [1, 2, 2, 1],\n",
    "                         strides= [1, 2, 2, 1], padding= 'SAME')"
   ]
  },
  {
   "cell_type": "markdown",
   "metadata": {},
   "source": [
    "# Define layers in the NN"
   ]
  },
  {
   "cell_type": "markdown",
   "metadata": {},
   "source": [
    "1st Convolution layer\n",
    "- 32 features for each 5X5 patch of the image"
   ]
  },
  {
   "cell_type": "markdown",
   "metadata": {},
   "source": [
    "Do convolution on images, add bias and push through RELU activation"
   ]
  },
  {
   "cell_type": "markdown",
   "metadata": {},
   "source": [
    "Take results and run through max_pool"
   ]
  },
  {
   "cell_type": "code",
   "execution_count": 14,
   "metadata": {},
   "outputs": [],
   "source": [
    "with tf.name_scope('Conv1'):\n",
    "    with tf.name_scope('weights'):\n",
    "        W_conv1= weight_variable([5, 5, 1, 32])\n",
    "    with tf.name_scope('biases'):\n",
    "        b_conv1= bias_variable([32])\n",
    "        variable_summaries(b_conv1)\n",
    "        \n",
    "    # Do convolution on images, add bias and push through RELU activation\n",
    "    conv1_wx_b = conv2d(X_image, W_conv1,name=\"conv2d\") + b_conv1\n",
    "    tf.summary.histogram('conv1_wx_b', conv1_wx_b)\n",
    "    h_conv1 = tf.nn.relu(conv1_wx_b, name=\"relu\")\n",
    "    tf.summary.histogram('h_conv1', h_conv1)\n",
    "    # take results and run through max_pool\n",
    "    h_pool1 = max_pool_2x2(h_conv1, name=\"pool\")"
   ]
  },
  {
   "cell_type": "markdown",
   "metadata": {},
   "source": [
    "2nd Convolution layer\n",
    "- Process the 32 features from Convolution layer 1, in 5 X 5 patch.  Return 64 features weights and biases"
   ]
  },
  {
   "cell_type": "markdown",
   "metadata": {},
   "source": [
    "Do convolution of the output of the 1st convolution layer.  Pool results "
   ]
  },
  {
   "cell_type": "code",
   "execution_count": 15,
   "metadata": {},
   "outputs": [],
   "source": [
    "with tf.name_scope('Conv2'):\n",
    "# Process the 32 features from Convolution layer 1, in 5 X 5 patch.  return 64 features weights and biases\n",
    "    with tf.name_scope('weights'):\n",
    "        W_conv2 = weight_variable([5, 5, 32, 64], name=\"weight\")\n",
    "        variable_summaries(W_conv2)\n",
    "    with tf.name_scope('biases'):\n",
    "        b_conv2 = bias_variable([64], name=\"bias\")\n",
    "        variable_summaries(b_conv2)\n",
    "    # Do convolution of the output of the 1st convolution layer.  Pool results \n",
    "    conv2_wx_b = conv2d(h_pool1, W_conv2, name=\"conv2d\") + b_conv2\n",
    "    tf.summary.histogram('conv2_wx_b', conv2_wx_b)\n",
    "    h_conv2 = tf.nn.relu(conv2_wx_b, name=\"relu\")\n",
    "    tf.summary.histogram('h_conv2', h_conv2)\n",
    "    h_pool2 = max_pool_2x2(h_conv2, name=\"pool\")"
   ]
  },
  {
   "cell_type": "markdown",
   "metadata": {},
   "source": [
    "Fully Connected Layer"
   ]
  },
  {
   "cell_type": "markdown",
   "metadata": {},
   "source": [
    "Connect output of pooling layer 2 as input to full connected layer"
   ]
  },
  {
   "cell_type": "code",
   "execution_count": 16,
   "metadata": {},
   "outputs": [],
   "source": [
    "with tf.name_scope('FC'):\n",
    "    # Fully Connected Layer\n",
    "    W_fc1 = weight_variable([7 * 7 * 64, 1024], name=\"weight\")\n",
    "    b_fc1 = bias_variable([1024], name=\"bias\")\n",
    "    #   Connect output of pooling layer 2 as input to full connected layer\n",
    "    h_pool2_flat = tf.reshape(h_pool2, [-1, 7*7*64])\n",
    "    h_fc1 = tf.nn.relu(tf.matmul(h_pool2_flat, W_fc1) + b_fc1, name=\"relu\")"
   ]
  },
  {
   "cell_type": "markdown",
   "metadata": {},
   "source": [
    "Dropout Some Neurons to reduce OverFitting"
   ]
  },
  {
   "cell_type": "code",
   "execution_count": 17,
   "metadata": {},
   "outputs": [
    {
     "name": "stderr",
     "output_type": "stream",
     "text": [
      "W0804 12:57:05.279460  7212 deprecation.py:506] From <ipython-input-17-a82f30c66d70>:2: calling dropout (from tensorflow.python.ops.nn_ops) with keep_prob is deprecated and will be removed in a future version.\n",
      "Instructions for updating:\n",
      "Please use `rate` instead of `keep_prob`. Rate should be set to `rate = 1 - keep_prob`.\n"
     ]
    }
   ],
   "source": [
    "keep_prob = tf.placeholder(tf.float32)  # get dropout probability as a training input.\n",
    "h_fc1_drop = tf.nn.dropout(h_fc1, keep_prob)"
   ]
  },
  {
   "cell_type": "markdown",
   "metadata": {},
   "source": [
    "Readout layer.. to get 10 digits 0-9"
   ]
  },
  {
   "cell_type": "code",
   "execution_count": 18,
   "metadata": {},
   "outputs": [],
   "source": [
    "with tf.name_scope(\"Readout\"):\n",
    "# Readout layer\n",
    "    W_fc2 = weight_variable([1024, 10], name=\"weight\")\n",
    "    b_fc2 = bias_variable([10], name=\"bias\")"
   ]
  },
  {
   "cell_type": "markdown",
   "metadata": {},
   "source": [
    "# Define Model"
   ]
  },
  {
   "cell_type": "code",
   "execution_count": 19,
   "metadata": {},
   "outputs": [],
   "source": [
    "y_conv = tf.matmul(h_fc1_drop, W_fc2) + b_fc2"
   ]
  },
  {
   "cell_type": "markdown",
   "metadata": {},
   "source": [
    "Loss Measurement"
   ]
  },
  {
   "cell_type": "code",
   "execution_count": 20,
   "metadata": {},
   "outputs": [
    {
     "name": "stderr",
     "output_type": "stream",
     "text": [
      "W0804 12:57:08.863332  7212 deprecation.py:323] From <ipython-input-20-2a4a614328ad>:2: softmax_cross_entropy_with_logits (from tensorflow.python.ops.nn_ops) is deprecated and will be removed in a future version.\n",
      "Instructions for updating:\n",
      "\n",
      "Future major versions of TensorFlow will allow gradients to flow\n",
      "into the labels input on backprop by default.\n",
      "\n",
      "See `tf.nn.softmax_cross_entropy_with_logits_v2`.\n",
      "\n"
     ]
    }
   ],
   "source": [
    "with tf.name_scope(\"cross_entropy\"):\n",
    "    cross_entropy = tf.reduce_mean(tf.nn.softmax_cross_entropy_with_logits(logits=y_conv, labels=y_))"
   ]
  },
  {
   "cell_type": "markdown",
   "metadata": {},
   "source": [
    "Loss optimization"
   ]
  },
  {
   "cell_type": "code",
   "execution_count": 21,
   "metadata": {},
   "outputs": [],
   "source": [
    "with tf.name_scope(\"loss_optimizer\"):\n",
    "    train_step = tf.train.AdamOptimizer(1e-4).minimize(cross_entropy)"
   ]
  },
  {
   "cell_type": "code",
   "execution_count": 22,
   "metadata": {},
   "outputs": [],
   "source": [
    "with tf.name_scope(\"accuracy\"):\n",
    "    # What is correct\n",
    "    correct_prediction = tf.equal(tf.argmax(y_conv,1), tf.argmax(y_,1))\n",
    "    # How accurate is it?\n",
    "    accuracy = tf.reduce_mean(tf.cast(correct_prediction, tf.float32))"
   ]
  },
  {
   "cell_type": "code",
   "execution_count": 23,
   "metadata": {},
   "outputs": [
    {
     "data": {
      "text/plain": [
       "<tf.Tensor 'training_accuracy:0' shape=() dtype=string>"
      ]
     },
     "execution_count": 23,
     "metadata": {},
     "output_type": "execute_result"
    }
   ],
   "source": [
    "tf.summary.scalar(\"cross_entropy_scl\", cross_entropy)\n",
    "tf.summary.scalar(\"training_accuracy\", accuracy)"
   ]
  },
  {
   "cell_type": "code",
   "execution_count": 24,
   "metadata": {},
   "outputs": [],
   "source": [
    "# TB - Merge summaries \n",
    "summarize_all = tf.summary.merge_all()"
   ]
  },
  {
   "cell_type": "markdown",
   "metadata": {},
   "source": [
    "To run Tensorflow on CPU"
   ]
  },
  {
   "cell_type": "code",
   "execution_count": 25,
   "metadata": {},
   "outputs": [],
   "source": [
    "import os\n",
    "os.environ[\"CUDA_VISIBLE_DEVICES\"]=\"-1\" "
   ]
  },
  {
   "cell_type": "markdown",
   "metadata": {},
   "source": [
    "Initialize all of the variables"
   ]
  },
  {
   "cell_type": "code",
   "execution_count": 26,
   "metadata": {},
   "outputs": [],
   "source": [
    "sess= tf.InteractiveSession()\n",
    "sess.run(tf.global_variables_initializer())"
   ]
  },
  {
   "cell_type": "code",
   "execution_count": 29,
   "metadata": {},
   "outputs": [],
   "source": [
    "# TB - Write the default graph out so we can view it's structure\n",
    "tbWriter = tf.summary.FileWriter(logPath, sess.graph)"
   ]
  },
  {
   "cell_type": "markdown",
   "metadata": {},
   "source": [
    "# Train Model"
   ]
  },
  {
   "cell_type": "code",
   "execution_count": 30,
   "metadata": {},
   "outputs": [],
   "source": [
    "import time\n",
    "\n",
    "num_steps= 2000\n",
    "display_every= 100"
   ]
  },
  {
   "cell_type": "code",
   "execution_count": 31,
   "metadata": {},
   "outputs": [],
   "source": [
    "# Start timer\n",
    "start_time = time.time()"
   ]
  },
  {
   "cell_type": "markdown",
   "metadata": {},
   "source": [
    "For 1000 iters and Displaying Result after every 100 Iterations"
   ]
  },
  {
   "cell_type": "code",
   "execution_count": 32,
   "metadata": {},
   "outputs": [
    {
     "name": "stdout",
     "output_type": "stream",
     "text": [
      "step 0, elapsed time 2.27 seconds, training accuracy 2.000%\n",
      "step 100, elapsed time 10.59 seconds, training accuracy 76.000%\n",
      "step 200, elapsed time 19.14 seconds, training accuracy 94.000%\n",
      "step 300, elapsed time 28.04 seconds, training accuracy 94.000%\n",
      "step 400, elapsed time 37.74 seconds, training accuracy 84.000%\n",
      "step 500, elapsed time 47.57 seconds, training accuracy 94.000%\n",
      "step 600, elapsed time 57.58 seconds, training accuracy 94.000%\n",
      "step 700, elapsed time 67.58 seconds, training accuracy 84.000%\n",
      "step 800, elapsed time 77.75 seconds, training accuracy 98.000%\n",
      "step 900, elapsed time 88.02 seconds, training accuracy 98.000%\n",
      "step 1000, elapsed time 98.23 seconds, training accuracy 92.000%\n",
      "step 1100, elapsed time 108.82 seconds, training accuracy 98.000%\n",
      "step 1200, elapsed time 119.28 seconds, training accuracy 98.000%\n",
      "step 1300, elapsed time 129.87 seconds, training accuracy 98.000%\n",
      "step 1400, elapsed time 140.61 seconds, training accuracy 96.000%\n",
      "step 1500, elapsed time 151.28 seconds, training accuracy 98.000%\n",
      "step 1600, elapsed time 162.47 seconds, training accuracy 100.000%\n",
      "step 1700, elapsed time 174.14 seconds, training accuracy 94.000%\n",
      "step 1800, elapsed time 185.20 seconds, training accuracy 98.000%\n",
      "step 1900, elapsed time 195.85 seconds, training accuracy 100.000%\n"
     ]
    }
   ],
   "source": [
    "for i in range(num_steps):\n",
    "    batch = mnist.train.next_batch(50)\n",
    "    _, summary = sess.run([train_step, summarize_all], feed_dict={X: batch[0], y_: batch[1], keep_prob: 0.5})\n",
    "\n",
    "\n",
    "    # Periodic status display\n",
    "    if i%display_every == 0:\n",
    "        train_accuracy = accuracy.eval(feed_dict={\n",
    "            X:batch[0], y_: batch[1], keep_prob: 1.0})\n",
    "        end_time = time.time()\n",
    "        print(\"step {0}, elapsed time {1:.2f} seconds, training accuracy {2:.3f}%\".format(i, end_time-start_time, train_accuracy*100.0))\n",
    "        # write summary to log\n",
    "        tbWriter.add_summary(summary,i)"
   ]
  },
  {
   "cell_type": "markdown",
   "metadata": {},
   "source": [
    "Evaluate how well the model did. Do this by comparing the digit with the highest probability in actual (y) and predicted (y_)."
   ]
  },
  {
   "cell_type": "code",
   "execution_count": 33,
   "metadata": {},
   "outputs": [
    {
     "name": "stdout",
     "output_type": "stream",
     "text": [
      "Total training time for 2000 batches: 208.00 seconds\n"
     ]
    }
   ],
   "source": [
    "# Display summary \n",
    "#     Time to train\n",
    "end_time = time.time()\n",
    "print(\"Total training time for {0} batches: {1:.2f} seconds\".format(i+1, end_time-start_time))\n",
    "\n"
   ]
  },
  {
   "cell_type": "code",
   "execution_count": 34,
   "metadata": {},
   "outputs": [
    {
     "name": "stdout",
     "output_type": "stream",
     "text": [
      "Test accuracy 97.760%\n"
     ]
    }
   ],
   "source": [
    "#     Accuracy on test data\n",
    "print(\"Test accuracy {0:.3f}%\".format(accuracy.eval(feed_dict={\n",
    "    X: mnist.test.images, y_: mnist.test.labels, keep_prob: 1.0})*100.0))\n",
    "\n",
    "sess.close()"
   ]
  },
  {
   "cell_type": "code",
   "execution_count": null,
   "metadata": {},
   "outputs": [],
   "source": []
  }
 ],
 "metadata": {
  "kernelspec": {
   "display_name": "Python 3",
   "language": "python",
   "name": "python3"
  },
  "language_info": {
   "codemirror_mode": {
    "name": "ipython",
    "version": 3
   },
   "file_extension": ".py",
   "mimetype": "text/x-python",
   "name": "python",
   "nbconvert_exporter": "python",
   "pygments_lexer": "ipython3",
   "version": "3.7.3"
  }
 },
 "nbformat": 4,
 "nbformat_minor": 2
}
